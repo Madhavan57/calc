{
  "nbformat": 4,
  "nbformat_minor": 0,
  "metadata": {
    "colab": {
      "provenance": [],
      "mount_file_id": "1HHhe1jurtyTmjSKysCqwaOnZWmuHbph4",
      "authorship_tag": "ABX9TyNOfh9mmDzNUoeilDnh3Rim",
      "include_colab_link": true
    },
    "kernelspec": {
      "name": "python3",
      "display_name": "Python 3"
    },
    "language_info": {
      "name": "python"
    }
  },
  "cells": [
    {
      "cell_type": "markdown",
      "metadata": {
        "id": "view-in-github",
        "colab_type": "text"
      },
      "source": [
        "<a href=\"https://colab.research.google.com/github/Madhavan57/calc/blob/master/Assignment3.ipynb\" target=\"_parent\"><img src=\"https://colab.research.google.com/assets/colab-badge.svg\" alt=\"Open In Colab\"/></a>"
      ]
    },
    {
      "cell_type": "markdown",
      "source": [
        "Assignment - 3"
      ],
      "metadata": {
        "id": "yi8R0KL9WxVe"
      }
    },
    {
      "cell_type": "markdown",
      "source": [
        "Pre-Requisites"
      ],
      "metadata": {
        "id": "_kVV3toJW13W"
      }
    },
    {
      "cell_type": "code",
      "execution_count": 1,
      "metadata": {
        "colab": {
          "base_uri": "https://localhost:8080/"
        },
        "id": "Z6PXgYQJBhSu",
        "outputId": "10659fc0-56c4-4ff6-da25-fce56d97eb6f"
      },
      "outputs": [
        {
          "output_type": "stream",
          "name": "stdout",
          "text": [
            "Mounted at /content/drive\n"
          ]
        }
      ],
      "source": [
        "from google.colab import drive\n",
        "drive.mount('/content/drive')"
      ]
    },
    {
      "cell_type": "markdown",
      "source": [
        "STEP 1  : UNZIP Files"
      ],
      "metadata": {
        "id": "i2VXgx4jW9T3"
      }
    },
    {
      "cell_type": "code",
      "source": [
        "cd/content/drive/MyDrive/AI_IBM\n"
      ],
      "metadata": {
        "colab": {
          "base_uri": "https://localhost:8080/"
        },
        "id": "XmtLkzSFBthP",
        "outputId": "90a1a54c-1f56-42ea-b1ba-aab3963802c1"
      },
      "execution_count": 2,
      "outputs": [
        {
          "output_type": "stream",
          "name": "stdout",
          "text": [
            "/content/drive/MyDrive/AI_IBM\n"
          ]
        }
      ]
    },
    {
      "cell_type": "code",
      "source": [
        "!unzip Flowers-Dataset.zip\n"
      ],
      "metadata": {
        "id": "rpxfJCL1Bwya"
      },
      "execution_count": 3,
      "outputs": []
    },
    {
      "cell_type": "markdown",
      "source": [
        "STEP 2: Image Augumentation"
      ],
      "metadata": {
        "id": "LJuLtG3LXCem"
      }
    },
    {
      "cell_type": "code",
      "source": [
        "from tensorflow.keras.preprocessing.image import ImageDataGenerator\n"
      ],
      "metadata": {
        "id": "688yoCWHEVRu"
      },
      "execution_count": 19,
      "outputs": []
    },
    {
      "cell_type": "code",
      "source": [
        "train_datagen=ImageDataGenerator(rescale=1./255, zoom_range=0.2,horizontal_flip=True,vertical_flip=False)\n"
      ],
      "metadata": {
        "id": "Niu0t1K7CLYh"
      },
      "execution_count": 20,
      "outputs": []
    },
    {
      "cell_type": "code",
      "source": [
        "test_datagen=ImageDataGenerator(rescale=1./255)\n"
      ],
      "metadata": {
        "id": "lmeMno3rCM8M"
      },
      "execution_count": 21,
      "outputs": []
    },
    {
      "cell_type": "code",
      "source": [
        "x_train=train_datagen.flow_from_directory(r\"/content/drive/MyDrive/AI_IBM/flowers\",target_size=(64,64),class_mode='categorical',batch_size=24)\n"
      ],
      "metadata": {
        "colab": {
          "base_uri": "https://localhost:8080/"
        },
        "id": "IaP0J7hUCPQx",
        "outputId": "8e8c9c5d-365a-4381-db7f-3f9ff343a65f"
      },
      "execution_count": 22,
      "outputs": [
        {
          "output_type": "stream",
          "name": "stdout",
          "text": [
            "Found 4317 images belonging to 5 classes.\n"
          ]
        }
      ]
    },
    {
      "cell_type": "code",
      "source": [
        "x_test=test_datagen.flow_from_directory(r\"/content/drive/MyDrive/AI_IBM/flowers\",target_size=(64,64),class_mode='categorical',batch_size=24)\n"
      ],
      "metadata": {
        "colab": {
          "base_uri": "https://localhost:8080/"
        },
        "id": "8K3b_4gzCRMz",
        "outputId": "4a57c97a-03ef-4848-f9b3-bc7b1c242ce1"
      },
      "execution_count": 23,
      "outputs": [
        {
          "output_type": "stream",
          "name": "stdout",
          "text": [
            "Found 4317 images belonging to 5 classes.\n"
          ]
        }
      ]
    },
    {
      "cell_type": "code",
      "source": [
        "x_train.class_indices\n"
      ],
      "metadata": {
        "colab": {
          "base_uri": "https://localhost:8080/"
        },
        "id": "BBfNlVU6CSp-",
        "outputId": "c3496d1d-49f2-4b80-bf77-5309613a5c0a"
      },
      "execution_count": 24,
      "outputs": [
        {
          "output_type": "execute_result",
          "data": {
            "text/plain": [
              "{'daisy': 0, 'dandelion': 1, 'rose': 2, 'sunflower': 3, 'tulip': 4}"
            ]
          },
          "metadata": {},
          "execution_count": 24
        }
      ]
    },
    {
      "cell_type": "markdown",
      "source": [
        "Step 3 : Initializing CNN And Create Model"
      ],
      "metadata": {
        "id": "XqkKbbnJXdP9"
      }
    },
    {
      "cell_type": "code",
      "source": [
        "from tensorflow.keras.models import Sequential\n",
        "from tensorflow.keras.layers import Dense,Convolution2D,MaxPooling2D,Flatten"
      ],
      "metadata": {
        "id": "pwlGMUCjCVyi"
      },
      "execution_count": 6,
      "outputs": []
    },
    {
      "cell_type": "markdown",
      "source": [
        "Step 4: Add Layers"
      ],
      "metadata": {
        "id": "oaIyOEUeXl7x"
      }
    },
    {
      "cell_type": "code",
      "source": [
        "model=Sequential()\n"
      ],
      "metadata": {
        "id": "FWVnfH27CYpu"
      },
      "execution_count": 7,
      "outputs": []
    },
    {
      "cell_type": "markdown",
      "source": [
        "4.1 Input layers (Convolution , MaxPooling,Flatten)"
      ],
      "metadata": {
        "id": "1XFGjYFtXpCx"
      }
    },
    {
      "cell_type": "code",
      "source": [
        "model.add(Convolution2D(32,(3,3),input_shape=(64,64,3),activation='relu'))\n"
      ],
      "metadata": {
        "id": "gg-0fhAKEioB"
      },
      "execution_count": 8,
      "outputs": []
    },
    {
      "cell_type": "code",
      "source": [
        "model.add(MaxPooling2D(pool_size=(2,2)))\n"
      ],
      "metadata": {
        "id": "tg6AkxHNEkh3"
      },
      "execution_count": 9,
      "outputs": []
    },
    {
      "cell_type": "code",
      "source": [
        "model.add(Flatten())\n"
      ],
      "metadata": {
        "id": "HLHO3OaYEmdo"
      },
      "execution_count": 10,
      "outputs": []
    },
    {
      "cell_type": "code",
      "source": [
        "model.summary()\n"
      ],
      "metadata": {
        "colab": {
          "base_uri": "https://localhost:8080/"
        },
        "id": "V2tS4-B1EojW",
        "outputId": "42e8ba23-3617-4a02-9145-a94bd8ba5b03"
      },
      "execution_count": 11,
      "outputs": [
        {
          "output_type": "stream",
          "name": "stdout",
          "text": [
            "Model: \"sequential\"\n",
            "_________________________________________________________________\n",
            " Layer (type)                Output Shape              Param #   \n",
            "=================================================================\n",
            " conv2d (Conv2D)             (None, 62, 62, 32)        896       \n",
            "                                                                 \n",
            " max_pooling2d (MaxPooling2D  (None, 31, 31, 32)       0         \n",
            " )                                                               \n",
            "                                                                 \n",
            " flatten (Flatten)           (None, 30752)             0         \n",
            "                                                                 \n",
            "=================================================================\n",
            "Total params: 896\n",
            "Trainable params: 896\n",
            "Non-trainable params: 0\n",
            "_________________________________________________________________\n"
          ]
        }
      ]
    },
    {
      "cell_type": "markdown",
      "source": [
        "4.2 Hidden layers"
      ],
      "metadata": {
        "id": "0l_0ajRNX5VM"
      }
    },
    {
      "cell_type": "code",
      "source": [
        "model.add(Dense(300,activation='relu'))\n",
        "model.add(Dense(150,activation='relu'))"
      ],
      "metadata": {
        "id": "DJji_M4gEsFK"
      },
      "execution_count": 12,
      "outputs": []
    },
    {
      "cell_type": "markdown",
      "source": [
        "4.3 Output layers "
      ],
      "metadata": {
        "id": "zbNPIvYDX92N"
      }
    },
    {
      "cell_type": "code",
      "source": [
        "model.add(Dense(5,activation='softmax'))\n"
      ],
      "metadata": {
        "id": "8F_S0jESEuIW"
      },
      "execution_count": 13,
      "outputs": []
    },
    {
      "cell_type": "code",
      "source": [
        "model.compile(loss='categorical_crossentropy',optimizer='adam',metrics=['accuracy'])\n"
      ],
      "metadata": {
        "id": "hakaIAaYEv26"
      },
      "execution_count": 14,
      "outputs": []
    },
    {
      "cell_type": "code",
      "source": [
        "len(x_train)\n"
      ],
      "metadata": {
        "colab": {
          "base_uri": "https://localhost:8080/"
        },
        "id": "9QNLVS3qExgj",
        "outputId": "b93091f3-3611-4788-b03c-dbde7432b280"
      },
      "execution_count": 25,
      "outputs": [
        {
          "output_type": "execute_result",
          "data": {
            "text/plain": [
              "180"
            ]
          },
          "metadata": {},
          "execution_count": 25
        }
      ]
    },
    {
      "cell_type": "markdown",
      "source": [
        "Step 5 -Test the model"
      ],
      "metadata": {
        "id": "v0-cLZW-YDu6"
      }
    },
    {
      "cell_type": "code",
      "source": [
        "model.fit_generator(x_train,steps_per_epoch=len(x_train), validation_data=x_test, validation_steps=len(x_test), epochs= 30)\n"
      ],
      "metadata": {
        "colab": {
          "base_uri": "https://localhost:8080/"
        },
        "id": "ZSL7ZyswEzzL",
        "outputId": "58fc86aa-243b-4201-8ff0-f9532698bbe2"
      },
      "execution_count": 21,
      "outputs": [
        {
          "metadata": {
            "tags": null
          },
          "name": "stderr",
          "output_type": "stream",
          "text": [
            "/usr/local/lib/python3.7/dist-packages/ipykernel_launcher.py:1: UserWarning: `Model.fit_generator` is deprecated and will be removed in a future version. Please use `Model.fit`, which supports generators.\n",
            "  \"\"\"Entry point for launching an IPython kernel.\n"
          ]
        },
        {
          "output_type": "stream",
          "name": "stdout",
          "text": [
            "Epoch 1/30\n",
            "180/180 [==============================] - 1376s 8s/step - loss: 1.2991 - accuracy: 0.4830 - val_loss: 1.0548 - val_accuracy: 0.5782\n",
            "Epoch 2/30\n",
            "180/180 [==============================] - 65s 359ms/step - loss: 1.0194 - accuracy: 0.6009 - val_loss: 1.0176 - val_accuracy: 0.6136\n",
            "Epoch 3/30\n",
            "180/180 [==============================] - 64s 357ms/step - loss: 0.9115 - accuracy: 0.6477 - val_loss: 0.8452 - val_accuracy: 0.6838\n",
            "Epoch 4/30\n",
            "180/180 [==============================] - 64s 356ms/step - loss: 0.8733 - accuracy: 0.6625 - val_loss: 0.8046 - val_accuracy: 0.6868\n",
            "Epoch 5/30\n",
            "180/180 [==============================] - 64s 357ms/step - loss: 0.7938 - accuracy: 0.6947 - val_loss: 0.7700 - val_accuracy: 0.7137\n",
            "Epoch 6/30\n",
            "180/180 [==============================] - 64s 358ms/step - loss: 0.7443 - accuracy: 0.7130 - val_loss: 0.6786 - val_accuracy: 0.7454\n",
            "Epoch 7/30\n",
            "180/180 [==============================] - 64s 356ms/step - loss: 0.7046 - accuracy: 0.7313 - val_loss: 0.6493 - val_accuracy: 0.7589\n",
            "Epoch 8/30\n",
            "180/180 [==============================] - 64s 356ms/step - loss: 0.6535 - accuracy: 0.7450 - val_loss: 0.5731 - val_accuracy: 0.7813\n",
            "Epoch 9/30\n",
            "180/180 [==============================] - 64s 353ms/step - loss: 0.6119 - accuracy: 0.7711 - val_loss: 0.7922 - val_accuracy: 0.7102\n",
            "Epoch 10/30\n",
            "180/180 [==============================] - 64s 355ms/step - loss: 0.5866 - accuracy: 0.7836 - val_loss: 0.5788 - val_accuracy: 0.7790\n",
            "Epoch 11/30\n",
            "180/180 [==============================] - 63s 353ms/step - loss: 0.5471 - accuracy: 0.7876 - val_loss: 0.4578 - val_accuracy: 0.8314\n",
            "Epoch 12/30\n",
            "180/180 [==============================] - 63s 350ms/step - loss: 0.5070 - accuracy: 0.8128 - val_loss: 0.5488 - val_accuracy: 0.8061\n",
            "Epoch 13/30\n",
            "180/180 [==============================] - 63s 353ms/step - loss: 0.4878 - accuracy: 0.8233 - val_loss: 0.4759 - val_accuracy: 0.8263\n",
            "Epoch 14/30\n",
            "180/180 [==============================] - 63s 349ms/step - loss: 0.4547 - accuracy: 0.8314 - val_loss: 0.3924 - val_accuracy: 0.8645\n",
            "Epoch 15/30\n",
            "180/180 [==============================] - 63s 351ms/step - loss: 0.4181 - accuracy: 0.8478 - val_loss: 0.3367 - val_accuracy: 0.8768\n",
            "Epoch 16/30\n",
            "180/180 [==============================] - 63s 348ms/step - loss: 0.3971 - accuracy: 0.8599 - val_loss: 0.2926 - val_accuracy: 0.9018\n",
            "Epoch 17/30\n",
            "180/180 [==============================] - 63s 351ms/step - loss: 0.3695 - accuracy: 0.8689 - val_loss: 0.2988 - val_accuracy: 0.8907\n",
            "Epoch 18/30\n",
            "180/180 [==============================] - 63s 350ms/step - loss: 0.3482 - accuracy: 0.8765 - val_loss: 0.3054 - val_accuracy: 0.8849\n",
            "Epoch 19/30\n",
            "180/180 [==============================] - 63s 350ms/step - loss: 0.3356 - accuracy: 0.8784 - val_loss: 0.2360 - val_accuracy: 0.9131\n",
            "Epoch 20/30\n",
            "180/180 [==============================] - 63s 352ms/step - loss: 0.3051 - accuracy: 0.8895 - val_loss: 0.2634 - val_accuracy: 0.9020\n",
            "Epoch 21/30\n",
            "180/180 [==============================] - 63s 350ms/step - loss: 0.2834 - accuracy: 0.8983 - val_loss: 0.2314 - val_accuracy: 0.9185\n",
            "Epoch 22/30\n",
            "180/180 [==============================] - 63s 350ms/step - loss: 0.2522 - accuracy: 0.9073 - val_loss: 0.1685 - val_accuracy: 0.9460\n",
            "Epoch 23/30\n",
            "180/180 [==============================] - 63s 348ms/step - loss: 0.2606 - accuracy: 0.9113 - val_loss: 0.1786 - val_accuracy: 0.9356\n",
            "Epoch 24/30\n",
            "180/180 [==============================] - 64s 353ms/step - loss: 0.2606 - accuracy: 0.9046 - val_loss: 0.1422 - val_accuracy: 0.9509\n",
            "Epoch 25/30\n",
            "180/180 [==============================] - 63s 350ms/step - loss: 0.2290 - accuracy: 0.9201 - val_loss: 0.1495 - val_accuracy: 0.9493\n",
            "Epoch 26/30\n",
            "180/180 [==============================] - 63s 349ms/step - loss: 0.2365 - accuracy: 0.9224 - val_loss: 0.1518 - val_accuracy: 0.9481\n",
            "Epoch 27/30\n",
            "180/180 [==============================] - 63s 348ms/step - loss: 0.2035 - accuracy: 0.9326 - val_loss: 0.1509 - val_accuracy: 0.9460\n",
            "Epoch 28/30\n",
            "180/180 [==============================] - 63s 349ms/step - loss: 0.1997 - accuracy: 0.9287 - val_loss: 0.1756 - val_accuracy: 0.9428\n",
            "Epoch 29/30\n",
            "180/180 [==============================] - 63s 351ms/step - loss: 0.2051 - accuracy: 0.9307 - val_loss: 0.1408 - val_accuracy: 0.9527\n",
            "Epoch 30/30\n",
            "180/180 [==============================] - 63s 350ms/step - loss: 0.1939 - accuracy: 0.9328 - val_loss: 0.1080 - val_accuracy: 0.9662\n"
          ]
        },
        {
          "output_type": "execute_result",
          "data": {
            "text/plain": [
              "<keras.callbacks.History at 0x7f9041af3550>"
            ]
          },
          "metadata": {},
          "execution_count": 21
        }
      ]
    },
    {
      "cell_type": "markdown",
      "source": [
        "Step 6: Save the model "
      ],
      "metadata": {
        "id": "TIUKwDyNYJwf"
      }
    },
    {
      "cell_type": "code",
      "source": [
        "model.save('Flowers_classification_model1.h5')"
      ],
      "metadata": {
        "id": "DwglZagQTHsC"
      },
      "execution_count": 26,
      "outputs": []
    },
    {
      "cell_type": "markdown",
      "source": [
        "Step - 7: Test the model "
      ],
      "metadata": {
        "id": "Q2NbVoaMYPh-"
      }
    },
    {
      "cell_type": "code",
      "source": [
        "ls"
      ],
      "metadata": {
        "colab": {
          "base_uri": "https://localhost:8080/"
        },
        "id": "BOXwks2iTKMd",
        "outputId": "e41b1fe2-3c6c-49d3-ebf1-910524dacdff"
      },
      "execution_count": 23,
      "outputs": [
        {
          "output_type": "stream",
          "name": "stdout",
          "text": [
            "\u001b[0m\u001b[01;34mflowers\u001b[0m/  Flowers_classification_model1.h5  Flowers-Dataset.zip\n"
          ]
        }
      ]
    },
    {
      "cell_type": "code",
      "source": [
        "import numpy as np\n",
        "from tensorflow.keras.models import load_model\n",
        "from tensorflow.keras.preprocessing import image"
      ],
      "metadata": {
        "id": "EZr0MsOOTMW1"
      },
      "execution_count": 27,
      "outputs": []
    },
    {
      "cell_type": "code",
      "source": [
        "model=load_model('Flowers_classification_model1.h5')"
      ],
      "metadata": {
        "id": "U0KpLjboTOuk"
      },
      "execution_count": 28,
      "outputs": []
    },
    {
      "cell_type": "code",
      "source": [
        "import numpy as np\n",
        "from tensorflow.keras.models import load_model\n",
        "from tensorflow.keras.preprocessing import image\n",
        "img=image.load_img(r\"/content/si.jpg\",target_size=(64,64))\n",
        "x=image.img_to_array(img)\n",
        "x=np.expand_dims(x,axis=0)\n",
        "y=np.argmax(model.predict(x),axis=1)\n",
        "# x_train.class_indices\n",
        "index=['daisy','dandelion','rose','sunflower','tulip']\n",
        "index[y[0]]"
      ],
      "metadata": {
        "colab": {
          "base_uri": "https://localhost:8080/",
          "height": 53
        },
        "id": "m1g_yPgSVYMQ",
        "outputId": "422645bd-67c5-435a-9fb2-e16d81fa5ea3"
      },
      "execution_count": 29,
      "outputs": [
        {
          "output_type": "stream",
          "name": "stdout",
          "text": [
            "1/1 [==============================] - 0s 390ms/step\n"
          ]
        },
        {
          "output_type": "execute_result",
          "data": {
            "text/plain": [
              "'rose'"
            ],
            "application/vnd.google.colaboratory.intrinsic+json": {
              "type": "string"
            }
          },
          "metadata": {},
          "execution_count": 29
        }
      ]
    }
  ]
}